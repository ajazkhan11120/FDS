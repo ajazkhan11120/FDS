{
 "cells": [
  {
   "cell_type": "code",
   "execution_count": 1,
   "id": "3a1fdb52",
   "metadata": {},
   "outputs": [
    {
     "name": "stdout",
     "output_type": "stream",
     "text": [
      "P(A/B)=0.339%\n"
     ]
    }
   ],
   "source": [
    "#calculate p(A/B) given P(A)=0.02% P(B/A)=5% p(B/NotA)\n",
    "\n",
    "def bayes_law(p_a,p_b_given_a,p_b_given_not_a):\n",
    "    #calculate p(not A)\n",
    "    not_a=1-p_a\n",
    "    \n",
    "    #calculate p(B)\n",
    "    p_b=p_b_given_a * p_a + p_b_given_not_a * not_a\n",
    "    \n",
    "    #calculate P(A/B)\n",
    "    p_a_given_b=(p_b_given_a * p_a) /p_b\n",
    "    \n",
    "    return p_a_given_b\n",
    "\n",
    "p_a=0.0002\n",
    "p_b_given_a=0.85\n",
    "p_b_given_not_a=0.05\n",
    "\n",
    "result=bayes_law(p_a,p_b_given_a,p_b_given_not_a)\n",
    "print('P(A/B)=%.3f%%' % (result*100))"
   ]
  },
  {
   "cell_type": "code",
   "execution_count": 2,
   "id": "634cf79f",
   "metadata": {},
   "outputs": [
    {
     "name": "stdout",
     "output_type": "stream",
     "text": [
      "P(p_spam_given_con)=47.872%\n"
     ]
    }
   ],
   "source": [
    "#calculate p(spam/con) given p(spam)=0.30 p(not_spam)=0.70 p(con/spam)=0.75 p(con/not_spam)=0.35\n",
    "\n",
    "def bayes_law(p_spam,p_not_spam,p_con_given_spam,p_con_not_spam):\n",
    "    \n",
    "    #calculate p(spam/con)\n",
    "    p_spam_given_con=(p_con_given_spam*p_spam)/(p_con_given_spam*p_spam+p_con_not_spam*p_not_spam)\n",
    "    \n",
    "    return p_spam_given_con\n",
    "\n",
    "p_spam=0.30\n",
    "p_not_spam=0.70\n",
    "p_con_given_spam=0.75\n",
    "p_con_given_not_spam=0.35\n",
    "\n",
    "result=bayes_law(p_spam,p_not_spam,p_con_given_spam,p_con_given_not_spam)\n",
    "print('P(p_spam_given_con)=%.3f%%' % (result*100))\n"
   ]
  },
  {
   "cell_type": "code",
   "execution_count": null,
   "id": "bc51c7f9",
   "metadata": {},
   "outputs": [],
   "source": []
  }
 ],
 "metadata": {
  "kernelspec": {
   "display_name": "Python 3",
   "language": "python",
   "name": "python3"
  },
  "language_info": {
   "codemirror_mode": {
    "name": "ipython",
    "version": 3
   },
   "file_extension": ".py",
   "mimetype": "text/x-python",
   "name": "python",
   "nbconvert_exporter": "python",
   "pygments_lexer": "ipython3",
   "version": "3.8.8"
  }
 },
 "nbformat": 4,
 "nbformat_minor": 5
}
